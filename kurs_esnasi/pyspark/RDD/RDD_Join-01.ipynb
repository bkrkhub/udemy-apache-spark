{
 "cells": [
  {
   "cell_type": "code",
   "execution_count": 1,
   "metadata": {},
   "outputs": [],
   "source": [
    "import findspark\n",
    "findspark.init()"
   ]
  },
  {
   "cell_type": "code",
   "execution_count": 2,
   "metadata": {},
   "outputs": [],
   "source": [
    "from pyspark import SparkContext, SparkConf"
   ]
  },
  {
   "cell_type": "code",
   "execution_count": 3,
   "metadata": {},
   "outputs": [],
   "source": [
    "conf = SparkConf().setAppName(\"RDDJoin\").setMaster(\"local[4]\")"
   ]
  },
  {
   "cell_type": "code",
   "execution_count": 4,
   "metadata": {},
   "outputs": [],
   "source": [
    "sc = SparkContext(conf=conf)"
   ]
  },
  {
   "cell_type": "markdown",
   "metadata": {},
   "source": [
    "# VERİ OKUMA SAFHASI"
   ]
  },
  {
   "cell_type": "code",
   "execution_count": 5,
   "metadata": {},
   "outputs": [],
   "source": [
    "# order_items okuma ve başlıktan kurtulma\n",
    "order_items_rdd = sc.textFile(\"D:/Datasets/retail_db/order_items.csv\") \\\n",
    ".filter(lambda x: \"orderItemName\" not in x) \\\n",
    ".repartition(4)"
   ]
  },
  {
   "cell_type": "code",
   "execution_count": 6,
   "metadata": {},
   "outputs": [
    {
     "data": {
      "text/plain": [
       "['11,5,1014,2,99.96,49.98',\n",
       " '12,5,957,1,299.98,299.98',\n",
       " '13,5,403,1,129.99,129.99',\n",
       " '14,7,1073,1,199.99,199.99',\n",
       " '15,7,957,1,299.98,299.98']"
      ]
     },
     "execution_count": 6,
     "metadata": {},
     "output_type": "execute_result"
    }
   ],
   "source": [
    "order_items_rdd.take(5)"
   ]
  },
  {
   "cell_type": "code",
   "execution_count": 7,
   "metadata": {},
   "outputs": [],
   "source": [
    "# products okuma ve başlıktan kurtulma\n",
    "products_rdd = sc.textFile(\"D:/Datasets/retail_db/products.csv\") \\\n",
    ".filter(lambda x: \"productDescription\" not in x) \\\n",
    ".repartition(4)"
   ]
  },
  {
   "cell_type": "code",
   "execution_count": 8,
   "metadata": {},
   "outputs": [
    {
     "data": {
      "text/plain": [
       "['11,2,Fitness Gear 300 lb Olympic Weight Set,,209.99,http://images.acmesports.sports/Fitness+Gear+300+lb+Olympic+Weight+Set',\n",
       " \"12,2,Under Armour Men's Highlight MC Alter Ego Fla,,139.99,http://images.acmesports.sports/Under+Armour+Men%27s+Highlight+MC+Alter+Ego+Flash+Football...\",\n",
       " \"13,2,Under Armour Men's Renegade D Mid Football Cl,,89.99,http://images.acmesports.sports/Under+Armour+Men%27s+Renegade+D+Mid+Football+Cleat\",\n",
       " '14,2,Quik Shade Summit SX170 10 FT. x 10 FT. Canop,,199.99,http://images.acmesports.sports/Quik+Shade+Summit+SX170+10+FT.+x+10+FT.+Canopy',\n",
       " \"15,2,Under Armour Kids' Highlight RM Alter Ego Sup,,59.99,http://images.acmesports.sports/Under+Armour+Kids%27+Highlight+RM+Alter+Ego+Superman+Football...\"]"
      ]
     },
     "execution_count": 8,
     "metadata": {},
     "output_type": "execute_result"
    }
   ],
   "source": [
    "products_rdd.take(5)"
   ]
  },
  {
   "cell_type": "markdown",
   "metadata": {},
   "source": [
    "# OKUNAN VERİLERİ PAIR RDD'ye ÇEVİRME SAFHASI"
   ]
  },
  {
   "cell_type": "code",
   "execution_count": 9,
   "metadata": {},
   "outputs": [],
   "source": [
    "# order_items pair_rdd yapma\n",
    "def make_order_items_pair_rdd(line):\n",
    "    orderItemName = line.split(\",\")[0]\n",
    "    orderItemOrderId = line.split(\",\")[1]\n",
    "    orderItemProductId = line.split(\",\")[2]\n",
    "    orderItemQuantity = line.split(\",\")[3]\n",
    "    orderItemSubTotal = line.split(\",\")[4]\n",
    "    orderItemProductPrice = line.split(\",\")[5]\n",
    "    \n",
    "    return (orderItemProductId, (orderItemName, orderItemOrderId, orderItemQuantity, \n",
    "                                 orderItemSubTotal,orderItemProductPrice))"
   ]
  },
  {
   "cell_type": "code",
   "execution_count": 10,
   "metadata": {},
   "outputs": [],
   "source": [
    "order_item_pair_rdd = order_items_rdd.map(make_order_items_pair_rdd)"
   ]
  },
  {
   "cell_type": "code",
   "execution_count": 11,
   "metadata": {},
   "outputs": [
    {
     "data": {
      "text/plain": [
       "[('1014', ('11', '5', '2', '99.96', '49.98')),\n",
       " ('957', ('12', '5', '1', '299.98', '299.98')),\n",
       " ('403', ('13', '5', '1', '129.99', '129.99')),\n",
       " ('1073', ('14', '7', '1', '199.99', '199.99')),\n",
       " ('957', ('15', '7', '1', '299.98', '299.98'))]"
      ]
     },
     "execution_count": 11,
     "metadata": {},
     "output_type": "execute_result"
    }
   ],
   "source": [
    "order_item_pair_rdd.take(5)"
   ]
  },
  {
   "cell_type": "code",
   "execution_count": 12,
   "metadata": {},
   "outputs": [],
   "source": [
    "# products için pair rdd yapma\n",
    "def make_products_pair_rdd(line):\n",
    "    productId = line.split(\",\")[0]\n",
    "    productCategoryId = line.split(\",\")[1]\n",
    "    productName = line.split(\",\")[2]\n",
    "    productDescription = line.split(\",\")[3]\n",
    "    productPrice = line.split(\",\")[4]\n",
    "    productImage = line.split(\",\")[5]\n",
    "    \n",
    "    return (productId,(productCategoryId, productName, productDescription, productPrice, productImage))"
   ]
  },
  {
   "cell_type": "code",
   "execution_count": 13,
   "metadata": {},
   "outputs": [],
   "source": [
    "products_pair_rdd = products_rdd.map(make_products_pair_rdd)"
   ]
  },
  {
   "cell_type": "code",
   "execution_count": 14,
   "metadata": {},
   "outputs": [
    {
     "data": {
      "text/plain": [
       "[('11',\n",
       "  ('2',\n",
       "   'Fitness Gear 300 lb Olympic Weight Set',\n",
       "   '',\n",
       "   '209.99',\n",
       "   'http://images.acmesports.sports/Fitness+Gear+300+lb+Olympic+Weight+Set')),\n",
       " ('12',\n",
       "  ('2',\n",
       "   \"Under Armour Men's Highlight MC Alter Ego Fla\",\n",
       "   '',\n",
       "   '139.99',\n",
       "   'http://images.acmesports.sports/Under+Armour+Men%27s+Highlight+MC+Alter+Ego+Flash+Football...')),\n",
       " ('13',\n",
       "  ('2',\n",
       "   \"Under Armour Men's Renegade D Mid Football Cl\",\n",
       "   '',\n",
       "   '89.99',\n",
       "   'http://images.acmesports.sports/Under+Armour+Men%27s+Renegade+D+Mid+Football+Cleat')),\n",
       " ('14',\n",
       "  ('2',\n",
       "   'Quik Shade Summit SX170 10 FT. x 10 FT. Canop',\n",
       "   '',\n",
       "   '199.99',\n",
       "   'http://images.acmesports.sports/Quik+Shade+Summit+SX170+10+FT.+x+10+FT.+Canopy')),\n",
       " ('15',\n",
       "  ('2',\n",
       "   \"Under Armour Kids' Highlight RM Alter Ego Sup\",\n",
       "   '',\n",
       "   '59.99',\n",
       "   'http://images.acmesports.sports/Under+Armour+Kids%27+Highlight+RM+Alter+Ego+Superman+Football...'))]"
      ]
     },
     "execution_count": 14,
     "metadata": {},
     "output_type": "execute_result"
    }
   ],
   "source": [
    "products_pair_rdd.take(5)"
   ]
  },
  {
   "cell_type": "markdown",
   "metadata": {},
   "source": [
    "# JOIN AŞAMASI"
   ]
  },
  {
   "cell_type": "code",
   "execution_count": 15,
   "metadata": {},
   "outputs": [],
   "source": [
    "order_items_product_pair_rdd = order_item_pair_rdd.join(products_pair_rdd)"
   ]
  },
  {
   "cell_type": "code",
   "execution_count": 16,
   "metadata": {},
   "outputs": [
    {
     "data": {
      "text/plain": [
       "[('957',\n",
       "  (('12', '5', '1', '299.98', '299.98'),\n",
       "   ('43',\n",
       "    \"Diamondback Women's Serene Classic Comfort Bi\",\n",
       "    '',\n",
       "    '299.98',\n",
       "    'http://images.acmesports.sports/Diamondback+Women%27s+Serene+Classic+Comfort+Bike+2014'))),\n",
       " ('957',\n",
       "  (('15', '7', '1', '299.98', '299.98'),\n",
       "   ('43',\n",
       "    \"Diamondback Women's Serene Classic Comfort Bi\",\n",
       "    '',\n",
       "    '299.98',\n",
       "    'http://images.acmesports.sports/Diamondback+Women%27s+Serene+Classic+Comfort+Bike+2014'))),\n",
       " ('957',\n",
       "  (('59', '19', '1', '299.98', '299.98'),\n",
       "   ('43',\n",
       "    \"Diamondback Women's Serene Classic Comfort Bi\",\n",
       "    '',\n",
       "    '299.98',\n",
       "    'http://images.acmesports.sports/Diamondback+Women%27s+Serene+Classic+Comfort+Bike+2014'))),\n",
       " ('957',\n",
       "  (('94', '34', '1', '299.98', '299.98'),\n",
       "   ('43',\n",
       "    \"Diamondback Women's Serene Classic Comfort Bi\",\n",
       "    '',\n",
       "    '299.98',\n",
       "    'http://images.acmesports.sports/Diamondback+Women%27s+Serene+Classic+Comfort+Bike+2014'))),\n",
       " ('957',\n",
       "  (('97', '36', '1', '299.98', '299.98'),\n",
       "   ('43',\n",
       "    \"Diamondback Women's Serene Classic Comfort Bi\",\n",
       "    '',\n",
       "    '299.98',\n",
       "    'http://images.acmesports.sports/Diamondback+Women%27s+Serene+Classic+Comfort+Bike+2014')))]"
      ]
     },
     "execution_count": 16,
     "metadata": {},
     "output_type": "execute_result"
    }
   ],
   "source": [
    "order_items_product_pair_rdd.take(5)"
   ]
  },
  {
   "cell_type": "code",
   "execution_count": null,
   "metadata": {},
   "outputs": [],
   "source": [
    "# sc.stop()"
   ]
  },
  {
   "cell_type": "code",
   "execution_count": null,
   "metadata": {},
   "outputs": [],
   "source": []
  }
 ],
 "metadata": {
  "kernelspec": {
   "display_name": "Python 3",
   "language": "python",
   "name": "python3"
  },
  "language_info": {
   "codemirror_mode": {
    "name": "ipython",
    "version": 3
   },
   "file_extension": ".py",
   "mimetype": "text/x-python",
   "name": "python",
   "nbconvert_exporter": "python",
   "pygments_lexer": "ipython3",
   "version": "3.6.8"
  }
 },
 "nbformat": 4,
 "nbformat_minor": 2
}
