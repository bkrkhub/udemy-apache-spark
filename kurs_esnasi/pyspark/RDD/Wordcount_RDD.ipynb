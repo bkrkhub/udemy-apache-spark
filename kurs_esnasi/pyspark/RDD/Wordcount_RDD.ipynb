{
 "cells": [
  {
   "cell_type": "markdown",
   "metadata": {},
   "source": [
    "<h1 style=\"color:red\">Bu derste hata alınması durumunda</h1>"
   ]
  },
  {
   "cell_type": "markdown",
   "metadata": {},
   "source": [
    "<p style=\"font-size:16px;color:blue;\">Merhaba arkadaşlar. Windows kullanan bazı arkadaşlar takip eden derste hatalar almaya başladı. Bu hatanın çözümü için dersin ekindeki worker.py dosyasını  C:\\spark\\python\\lib\\pyspark.zip\\pyspark içindeki worker.py ile değiştirip Jupyter Notebook'u yeniden çalıştırmanız yeterli olacaktır.</p>"
   ]
  },
  {
   "cell_type": "code",
   "execution_count": 1,
   "metadata": {},
   "outputs": [],
   "source": [
    "import findspark\n",
    "findspark.init(\"D:/spark\")"
   ]
  },
  {
   "cell_type": "code",
   "execution_count": 2,
   "metadata": {},
   "outputs": [],
   "source": [
    "# SparkContext\n",
    "from pyspark.sql import SparkSession\n",
    "from pyspark.conf import SparkConf\n",
    "from pyspark import SparkContext"
   ]
  },
  {
   "cell_type": "code",
   "execution_count": 3,
   "metadata": {},
   "outputs": [],
   "source": [
    "#spark = SparkSession.builder \\\n",
    "#.master(\"local[4]\") \\\n",
    "#.appName(\"Wordcount_Rdd\") \\\n",
    "#.getOrCreate()"
   ]
  },
  {
   "cell_type": "code",
   "execution_count": 4,
   "metadata": {},
   "outputs": [],
   "source": [
    "sc = SparkContext(master=\"local[4]\", appName=\"Wordcount_Rdd\")"
   ]
  },
  {
   "cell_type": "code",
   "execution_count": 5,
   "metadata": {},
   "outputs": [
    {
     "data": {
      "text/plain": [
       "[('spark.driver.host', 'ERKAN-MSI'),\n",
       " ('spark.driver.port', '50482'),\n",
       " ('spark.master', 'local[4]'),\n",
       " ('spark.rdd.compress', 'True'),\n",
       " ('spark.app.name', 'Wordcount_Rdd'),\n",
       " ('spark.serializer.objectStreamReset', '100'),\n",
       " ('spark.executor.id', 'driver'),\n",
       " ('spark.submit.deployMode', 'client'),\n",
       " ('spark.ui.showConsoleProgress', 'true'),\n",
       " ('spark.app.id', 'local-1621853735292')]"
      ]
     },
     "execution_count": 5,
     "metadata": {},
     "output_type": "execute_result"
    }
   ],
   "source": [
    "sc._conf.getAll()"
   ]
  },
  {
   "cell_type": "code",
   "execution_count": 6,
   "metadata": {},
   "outputs": [
    {
     "data": {
      "text/plain": [
       "'2.3.2'"
      ]
     },
     "execution_count": 6,
     "metadata": {},
     "output_type": "execute_result"
    }
   ],
   "source": [
    "sc.version"
   ]
  },
  {
   "cell_type": "code",
   "execution_count": 7,
   "metadata": {},
   "outputs": [],
   "source": [
    "veri_dosyasi = \"D:\\\\Datasets\\\\omer_seyfettin_forsa_hikaye.txt\""
   ]
  },
  {
   "cell_type": "code",
   "execution_count": 8,
   "metadata": {},
   "outputs": [],
   "source": [
    "hikaye_rdd = sc.textFile(veri_dosyasi).filter(lambda x: x!='')"
   ]
  },
  {
   "cell_type": "code",
   "execution_count": 9,
   "metadata": {},
   "outputs": [
    {
     "data": {
      "text/plain": [
       "52"
      ]
     },
     "execution_count": 9,
     "metadata": {},
     "output_type": "execute_result"
    }
   ],
   "source": [
    "hikaye_rdd.count()"
   ]
  },
  {
   "cell_type": "code",
   "execution_count": 10,
   "metadata": {},
   "outputs": [
    {
     "data": {
      "text/plain": [
       "['Ömer Seyfettin - Forsa',\n",
       " 'Akdeniz’in, kahramanlık yuvası sonsuz ufuklarına bakan küçük tepe, minimini bir çiçek ormanı gibiydi. İnce uzun dallı badem ağaçlarının alaca gölgeleri sahile inen keçiyoluna düşüyor, ilkbaharın tatlı rüzgârıyla sarhoş olan martılar, çılgın bağrışlarıyla havayı çınlatıyordu. Badem bahçesinin yanı geniş bir bağdı. Beyaz taşlardan yapılmış kısa bir duvarın ötesindeki harabe vadiye kadar iniyordu. Bağın ortasındaki yıkık kulübenin kapısız girişinden bir ihtiyar çıktı. Saçı sakalı bembeyazdı. Kamburunu düzeltmek istiyormuş gibi gerindi. Elleri, ayakları titriyordu. Gök kadar boş, gök kadar sakin duran denize baktı, baktı.',\n",
       " '– Hayırdır inşallah! dedi.',\n",
       " 'Duvarın dibindeki taş yığınlarına çöktü. Başını ellerinin arasına aldı. Sırtında yırtık bir çuval vardı. Çıplak ayakları topraktan yoğrulmuş gibiydi. Zayıf kolları kirli tunç rengindeydi. Yine başını kaldırdı. Gökle denizin birleştiği dumandan çizgiye dikkatle baktı, Ama görünürde bir şey yoktu.',\n",
       " 'Bu, her gece uykusunda onu kurtarmak için birçok geminin pupa yelken geldiğini gören zavallı eski bir Türk forsasıydı. Tutsak olalı kırk yılı geçmişti. Otuz yaşında, dinç, levent, güçlü bir kahramanken Malta korsanlarının eline düşmüştü. Yirmi yıl onların kadırgalarında kürek çekti. Yirmi yıl iki zincirle iki ayağından rutubetli bir geminin dibine bağlanmış yaşadı. Yirmi yılın yazları, kışları, rüzgârları, fırtınaları, güneşleri onun granit vücudunu eritemedi. Zincirleri küflendi, çürüdü, kırıldı. Yirmi yıl içinde birkaç kez halkalarını, çivilerini değiştirdiler. Ama onun çelikten daha sert kaslı bacaklarına bir şey olmadı. Yalnız aptes alamadığı için. üzülüyordu. Hep güneşin doğduğu yanı sol ilerisine alır, gözlerini kıbleye çevirir, beş vakit namazı gizli işaretle yerine getirirdi.']"
      ]
     },
     "execution_count": 10,
     "metadata": {},
     "output_type": "execute_result"
    }
   ],
   "source": [
    "hikaye_rdd.take(5)"
   ]
  },
  {
   "cell_type": "code",
   "execution_count": 11,
   "metadata": {},
   "outputs": [],
   "source": [
    "kelimeler = hikaye_rdd.flatMap(lambda satir: satir.split(\" \"))"
   ]
  },
  {
   "cell_type": "code",
   "execution_count": 12,
   "metadata": {},
   "outputs": [
    {
     "data": {
      "text/plain": [
       "['Ömer',\n",
       " 'Seyfettin',\n",
       " '-',\n",
       " 'Forsa',\n",
       " 'Akdeniz’in,',\n",
       " 'kahramanlık',\n",
       " 'yuvası',\n",
       " 'sonsuz',\n",
       " 'ufuklarına',\n",
       " 'bakan']"
      ]
     },
     "execution_count": 12,
     "metadata": {},
     "output_type": "execute_result"
    }
   ],
   "source": [
    "kelimeler.take(10)"
   ]
  },
  {
   "cell_type": "code",
   "execution_count": 13,
   "metadata": {},
   "outputs": [],
   "source": [
    "kelime_sayilari = kelimeler.map(lambda kelime: (kelime,1))"
   ]
  },
  {
   "cell_type": "code",
   "execution_count": 14,
   "metadata": {},
   "outputs": [
    {
     "data": {
      "text/plain": [
       "[('Ömer', 1), ('Seyfettin', 1), ('-', 1), ('Forsa', 1), ('Akdeniz’in,', 1)]"
      ]
     },
     "execution_count": 14,
     "metadata": {},
     "output_type": "execute_result"
    }
   ],
   "source": [
    "kelime_sayilari.take(5)"
   ]
  },
  {
   "cell_type": "code",
   "execution_count": 15,
   "metadata": {},
   "outputs": [],
   "source": [
    "kelime_sayilari_RBK = kelime_sayilari.reduceByKey(lambda x,y: x + y)"
   ]
  },
  {
   "cell_type": "code",
   "execution_count": 16,
   "metadata": {},
   "outputs": [
    {
     "data": {
      "text/plain": [
       "[('Ömer', 1),\n",
       " ('Seyfettin', 1),\n",
       " ('Forsa', 1),\n",
       " ('Akdeniz’in,', 1),\n",
       " ('kahramanlık', 2),\n",
       " ('sonsuz', 1),\n",
       " ('ufuklarına', 1),\n",
       " ('bakan', 1),\n",
       " ('uzun', 1),\n",
       " ('badem', 1)]"
      ]
     },
     "execution_count": 16,
     "metadata": {},
     "output_type": "execute_result"
    }
   ],
   "source": [
    "kelime_sayilari_RBK.take(10)"
   ]
  },
  {
   "cell_type": "code",
   "execution_count": 17,
   "metadata": {},
   "outputs": [],
   "source": [
    "kelime_sayilari_RBK2 = kelime_sayilari_RBK.map(lambda x: (x[1], x[0]))"
   ]
  },
  {
   "cell_type": "code",
   "execution_count": 18,
   "metadata": {},
   "outputs": [
    {
     "data": {
      "text/plain": [
       "[(1, 'Ömer'),\n",
       " (1, 'Seyfettin'),\n",
       " (1, 'Forsa'),\n",
       " (1, 'Akdeniz’in,'),\n",
       " (2, 'kahramanlık')]"
      ]
     },
     "execution_count": 18,
     "metadata": {},
     "output_type": "execute_result"
    }
   ],
   "source": [
    "kelime_sayilari_RBK2.take(5)"
   ]
  },
  {
   "cell_type": "code",
   "execution_count": 19,
   "metadata": {},
   "outputs": [
    {
     "data": {
      "text/plain": [
       "[(33, 'bir'),\n",
       " (31, '–'),\n",
       " (8, ''),\n",
       " (8, 'yıl'),\n",
       " (6, 'diye'),\n",
       " (5, 'Türk'),\n",
       " (5, 'dedi.'),\n",
       " (5, 'onun'),\n",
       " (5, 'doğru'),\n",
       " (5, 'Kırk'),\n",
       " (4, 'Yirmi'),\n",
       " (4, 'tutsak'),\n",
       " (4, 'Ben'),\n",
       " (4, 'gibi'),\n",
       " (4, 'Ama'),\n",
       " (4, 'büyük'),\n",
       " (3, 'yanı'),\n",
       " (3, 'şey'),\n",
       " (3, 'onu'),\n",
       " (3, 'geminin')]"
      ]
     },
     "execution_count": 19,
     "metadata": {},
     "output_type": "execute_result"
    }
   ],
   "source": [
    "kelime_sayilari_RBK2.sortByKey(False).take(20)"
   ]
  },
  {
   "cell_type": "code",
   "execution_count": 21,
   "metadata": {},
   "outputs": [],
   "source": [
    "sc.stop()"
   ]
  },
  {
   "cell_type": "code",
   "execution_count": null,
   "metadata": {},
   "outputs": [],
   "source": []
  }
 ],
 "metadata": {
  "kernelspec": {
   "display_name": "Python 3",
   "language": "python",
   "name": "python3"
  },
  "language_info": {
   "codemirror_mode": {
    "name": "ipython",
    "version": 3
   },
   "file_extension": ".py",
   "mimetype": "text/x-python",
   "name": "python",
   "nbconvert_exporter": "python",
   "pygments_lexer": "ipython3",
   "version": "3.6.8"
  }
 },
 "nbformat": 4,
 "nbformat_minor": 2
}
